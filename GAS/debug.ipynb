{
 "cells": [
  {
   "metadata": {
    "ExecuteTime": {
     "end_time": "2025-01-13T04:38:27.384082Z",
     "start_time": "2025-01-13T04:38:26.421964Z"
    }
   },
   "cell_type": "code",
   "source": "from run_APMS import main",
   "id": "98b283853a3d9499",
   "outputs": [],
   "execution_count": 1
  },
  {
   "metadata": {
    "ExecuteTime": {
     "end_time": "2025-01-13T04:57:17.899415Z",
     "start_time": "2025-01-13T04:57:17.897416Z"
    }
   },
   "cell_type": "code",
   "source": [
    "# for problem in ['test01']:\n",
    "for problem in ['la01']:\n",
    "    for ini in ['3']:\n",
    "    # for ini in ['1', '2']:\n",
    "        main(problem+'.txt', _instance=problem, _initialization=ini)"
   ],
   "id": "16fe7349ed4557f6",
   "outputs": [],
   "execution_count": null
  },
  {
   "metadata": {},
   "cell_type": "code",
   "outputs": [],
   "execution_count": null,
   "source": "",
   "id": "6b2bfa08eb21b159"
  }
 ],
 "metadata": {
  "kernelspec": {
   "display_name": "Python 3",
   "language": "python",
   "name": "python3"
  },
  "language_info": {
   "codemirror_mode": {
    "name": "ipython",
    "version": 2
   },
   "file_extension": ".py",
   "mimetype": "text/x-python",
   "name": "python",
   "nbconvert_exporter": "python",
   "pygments_lexer": "ipython2",
   "version": "2.7.6"
  }
 },
 "nbformat": 4,
 "nbformat_minor": 5
}
